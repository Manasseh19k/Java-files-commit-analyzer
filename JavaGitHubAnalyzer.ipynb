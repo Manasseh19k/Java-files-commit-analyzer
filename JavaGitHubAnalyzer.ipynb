{
  "nbformat": 4,
  "nbformat_minor": 0,
  "metadata": {
    "colab": {
      "provenance": []
    },
    "kernelspec": {
      "name": "python3",
      "display_name": "Python 3"
    },
    "language_info": {
      "name": "python"
    }
  },
  "cells": [
    {
      "cell_type": "code",
      "execution_count": null,
      "metadata": {
        "id": "RyWX3IIwA_HH"
      },
      "outputs": [],
      "source": []
    },
    {
      "cell_type": "code",
      "source": [
        "import csv\n",
        "from pydriller import Repository\n",
        "\n",
        "def analyze_repo(repo_url, output_csv):\n",
        "    with open(output_csv, mode='w', newline='') as csv_file:\n",
        "        fieldnames = ['Commit SHA', 'Java File', 'Old function signature', 'New function signature']\n",
        "        writer = csv.DictWriter(csv_file, fieldnames=fieldnames)\n",
        "        writer.writeheader()\n",
        "\n",
        "        for commit in Repository(repo_url).traverse_commits():\n",
        "            for modification in commit.modified_files:\n",
        "                if modification.filename.endswith('.java'):\n",
        "                    old_content = modification.source_code_before\n",
        "                    new_content = modification.source_code\n",
        "\n",
        "                    if old_content and new_content:\n",
        "                        old_lines = old_content.split('\\n')\n",
        "                        new_lines = new_content.split('\\n')\n",
        "\n",
        "                        for old_line, new_line in zip(old_lines, new_lines):\n",
        "                            old_signature = old_line.strip()\n",
        "                            new_signature = new_line.strip()\n",
        "\n",
        "                            if '(' in old_signature and '(' in new_signature:\n",
        "                                old_signature = old_signature.split('(', 1)[1].split(')', 1)[0].strip()\n",
        "                                new_signature = new_signature.split('(', 1)[1].split(')', 1)[0].strip()\n",
        "\n",
        "                                if len(old_signature.split(',')) < len(new_signature.split(',')):\n",
        "                                    writer.writerow({'Commit SHA': commit.hash,\n",
        "                                                     'Java File': modification.filename,\n",
        "                                                     'Old function signature': old_signature,\n",
        "                                                     'New function signature': new_signature})\n",
        "\n",
        "if __name__ == \"__main__\":\n",
        "    analyze_repo('https://github.com/google/guava', 'output.csv')\n"
      ],
      "metadata": {
        "id": "sPXVtWEgBIsk"
      },
      "execution_count": 38,
      "outputs": []
    },
    {
      "cell_type": "code",
      "source": [],
      "metadata": {
        "id": "KXIjMQ28Oqx7"
      },
      "execution_count": null,
      "outputs": []
    }
  ]
}